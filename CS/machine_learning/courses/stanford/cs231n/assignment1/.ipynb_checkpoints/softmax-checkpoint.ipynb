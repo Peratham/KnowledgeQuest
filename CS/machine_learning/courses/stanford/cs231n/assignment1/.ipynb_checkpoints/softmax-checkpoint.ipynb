{
 "cells": [
  {
   "cell_type": "markdown",
   "metadata": {},
   "source": [
    "# Softmax exercise\n",
    "\n",
    "*Complete and hand in this completed worksheet (including its outputs and any supporting code outside of the worksheet) with your assignment submission. For more details see the [assignments page](http://vision.stanford.edu/teaching/cs231n/assignments.html) on the course website.*\n",
    "\n",
    "This exercise is analogous to the SVM exercise. You will:\n",
    "\n",
    "- implement a fully-vectorized **loss function** for the Softmax classifier\n",
    "- implement the fully-vectorized expression for its **analytic gradient**\n",
    "- **check your implementation** with numerical gradient\n",
    "- use a validation set to **tune the learning rate and regularization** strength\n",
    "- **optimize** the loss function with **SGD**\n",
    "- **visualize** the final learned weights\n"
   ]
  },
  {
   "cell_type": "code",
   "execution_count": 1,
   "metadata": {
    "collapsed": false
   },
   "outputs": [],
   "source": [
    "import random\n",
    "import numpy as np\n",
    "from cs231n.data_utils import load_CIFAR10\n",
    "import matplotlib.pyplot as plt\n",
    "%matplotlib inline\n",
    "plt.rcParams['figure.figsize'] = (10.0, 8.0) # set default size of plots\n",
    "plt.rcParams['image.interpolation'] = 'nearest'\n",
    "plt.rcParams['image.cmap'] = 'gray'\n",
    "\n",
    "# for auto-reloading extenrnal modules\n",
    "# see http://stackoverflow.com/questions/1907993/autoreload-of-modules-in-ipython\n",
    "%load_ext autoreload\n",
    "%autoreload 2"
   ]
  },
  {
   "cell_type": "code",
   "execution_count": 2,
   "metadata": {
    "collapsed": false
   },
   "outputs": [
    {
     "name": "stdout",
     "output_type": "stream",
     "text": [
      "Train data shape:  (49000, 3073)\n",
      "Train labels shape:  (49000,)\n",
      "Validation data shape:  (1000, 3073)\n",
      "Validation labels shape:  (1000,)\n",
      "Test data shape:  (1000, 3073)\n",
      "Test labels shape:  (1000,)\n",
      "dev data shape:  (500, 3073)\n",
      "dev labels shape:  (500,)\n"
     ]
    }
   ],
   "source": [
    "def get_CIFAR10_data(num_training=49000, num_validation=1000, num_test=1000, num_dev=500):\n",
    "  \"\"\"\n",
    "  Load the CIFAR-10 dataset from disk and perform preprocessing to prepare\n",
    "  it for the linear classifier. These are the same steps as we used for the\n",
    "  SVM, but condensed to a single function.  \n",
    "  \"\"\"\n",
    "  # Load the raw CIFAR-10 data\n",
    "  cifar10_dir = 'cs231n/datasets/cifar-10-batches-py'\n",
    "  X_train, y_train, X_test, y_test = load_CIFAR10(cifar10_dir)\n",
    "  \n",
    "  # subsample the data\n",
    "  mask = range(num_training, num_training + num_validation)\n",
    "  X_val = X_train[mask]\n",
    "  y_val = y_train[mask]\n",
    "  mask = range(num_training)\n",
    "  X_train = X_train[mask]\n",
    "  y_train = y_train[mask]\n",
    "  mask = range(num_test)\n",
    "  X_test = X_test[mask]\n",
    "  y_test = y_test[mask]\n",
    "  mask = np.random.choice(num_training, num_dev, replace=False)\n",
    "  X_dev = X_train[mask]\n",
    "  y_dev = y_train[mask]\n",
    "  \n",
    "  # Preprocessing: reshape the image data into rows\n",
    "  X_train = np.reshape(X_train, (X_train.shape[0], -1))\n",
    "  X_val = np.reshape(X_val, (X_val.shape[0], -1))\n",
    "  X_test = np.reshape(X_test, (X_test.shape[0], -1))\n",
    "  X_dev = np.reshape(X_dev, (X_dev.shape[0], -1))\n",
    "  \n",
    "  # Normalize the data: subtract the mean image\n",
    "  mean_image = np.mean(X_train, axis = 0)\n",
    "  X_train -= mean_image\n",
    "  X_val -= mean_image\n",
    "  X_test -= mean_image\n",
    "  X_dev -= mean_image\n",
    "  \n",
    "  # add bias dimension and transform into columns\n",
    "  X_train = np.hstack([X_train, np.ones((X_train.shape[0], 1))])\n",
    "  X_val = np.hstack([X_val, np.ones((X_val.shape[0], 1))])\n",
    "  X_test = np.hstack([X_test, np.ones((X_test.shape[0], 1))])\n",
    "  X_dev = np.hstack([X_dev, np.ones((X_dev.shape[0], 1))])\n",
    "  \n",
    "  return X_train, y_train, X_val, y_val, X_test, y_test, X_dev, y_dev\n",
    "\n",
    "\n",
    "# Invoke the above function to get our data.\n",
    "X_train, y_train, X_val, y_val, X_test, y_test, X_dev, y_dev = get_CIFAR10_data()\n",
    "print 'Train data shape: ', X_train.shape\n",
    "print 'Train labels shape: ', y_train.shape\n",
    "print 'Validation data shape: ', X_val.shape\n",
    "print 'Validation labels shape: ', y_val.shape\n",
    "print 'Test data shape: ', X_test.shape\n",
    "print 'Test labels shape: ', y_test.shape\n",
    "print 'dev data shape: ', X_dev.shape\n",
    "print 'dev labels shape: ', y_dev.shape"
   ]
  },
  {
   "cell_type": "markdown",
   "metadata": {},
   "source": [
    "## Softmax Classifier\n",
    "\n",
    "Your code for this section will all be written inside **cs231n/classifiers/softmax.py**. \n"
   ]
  },
  {
   "cell_type": "code",
   "execution_count": 11,
   "metadata": {
    "collapsed": false
   },
   "outputs": [
    {
     "name": "stdout",
     "output_type": "stream",
     "text": [
      "loss: 2.369940\n",
      "sanity check: 2.302585\n"
     ]
    }
   ],
   "source": [
    "# First implement the naive softmax loss function with nested loops.\n",
    "# Open the file cs231n/classifiers/softmax.py and implement the\n",
    "# softmax_loss_naive function.\n",
    "\n",
    "from cs231n.classifiers.softmax import softmax_loss_naive\n",
    "import time\n",
    "\n",
    "# Generate a random softmax weight matrix and use it to compute the loss.\n",
    "W = np.random.randn(3073, 10) * 0.0001\n",
    "loss, grad = softmax_loss_naive(W, X_dev, y_dev, 0.0)\n",
    "\n",
    "# As a rough sanity check, our loss should be something close to -log(0.1).\n",
    "print 'loss: %f' % loss\n",
    "print 'sanity check: %f' % (-np.log(0.1))"
   ]
  },
  {
   "cell_type": "markdown",
   "metadata": {},
   "source": [
    "## Inline Question 1:\n",
    "Why do we expect our loss to be close to -log(0.1)? Explain briefly.**\n",
    "\n",
    "**Your answer:** *Fill this in*\n"
   ]
  },
  {
   "cell_type": "code",
   "execution_count": 12,
   "metadata": {
    "collapsed": false
   },
   "outputs": [
    {
     "name": "stdout",
     "output_type": "stream",
     "text": [
      "numerical: -0.020881 analytic: -0.020881, relative error: 1.606400e-06\n",
      "numerical: 1.488870 analytic: 1.488870, relative error: 1.937460e-08\n",
      "numerical: 1.949603 analytic: 1.949603, relative error: 1.223979e-08\n",
      "numerical: -0.897186 analytic: -0.897186, relative error: 2.965083e-08\n",
      "numerical: 0.102922 analytic: 0.102922, relative error: 2.687984e-07\n",
      "numerical: 0.923163 analytic: 0.923163, relative error: 7.919236e-08\n",
      "numerical: 1.179073 analytic: 1.179073, relative error: 3.617560e-08\n",
      "numerical: -1.465715 analytic: -1.465715, relative error: 2.519581e-08\n",
      "numerical: 0.447606 analytic: 0.447606, relative error: 8.815500e-09\n",
      "numerical: 2.161699 analytic: 2.161699, relative error: 1.501147e-08\n",
      "numerical: -0.707599 analytic: -0.707599, relative error: 5.511676e-08\n",
      "numerical: -2.464422 analytic: -2.464422, relative error: 3.154842e-09\n",
      "numerical: -1.857981 analytic: -1.857981, relative error: 6.497176e-09\n",
      "numerical: 0.062745 analytic: 0.062745, relative error: 1.019371e-06\n",
      "numerical: -0.217790 analytic: -0.217790, relative error: 5.443045e-08\n",
      "numerical: -2.357110 analytic: -2.357110, relative error: 1.436820e-08\n",
      "numerical: -0.939903 analytic: -0.939903, relative error: 1.677152e-08\n",
      "numerical: 0.215404 analytic: 0.215404, relative error: 7.937974e-08\n",
      "numerical: -0.373458 analytic: -0.373458, relative error: 7.113198e-08\n",
      "numerical: -0.971227 analytic: -0.971227, relative error: 1.091747e-08\n"
     ]
    }
   ],
   "source": [
    "# Complete the implementation of softmax_loss_naive and implement a (naive)\n",
    "# version of the gradient that uses nested loops.\n",
    "loss, grad = softmax_loss_naive(W, X_dev, y_dev, 0.0)\n",
    "\n",
    "# As we did for the SVM, use numeric gradient checking as a debugging tool.\n",
    "# The numeric gradient should be close to the analytic gradient.\n",
    "from cs231n.gradient_check import grad_check_sparse\n",
    "f = lambda w: softmax_loss_naive(w, X_dev, y_dev, 0.0)[0]\n",
    "grad_numerical = grad_check_sparse(f, W, grad, 10)\n",
    "\n",
    "# similar to SVM case, do another gradient check with regularization\n",
    "loss, grad = softmax_loss_naive(W, X_dev, y_dev, 1e2)\n",
    "f = lambda w: softmax_loss_naive(w, X_dev, y_dev, 1e2)[0]\n",
    "grad_numerical = grad_check_sparse(f, W, grad, 10)"
   ]
  },
  {
   "cell_type": "code",
   "execution_count": 14,
   "metadata": {
    "collapsed": false
   },
   "outputs": [
    {
     "name": "stdout",
     "output_type": "stream",
     "text": [
      "naive loss: 2.369940e+00 computed in 0.010939s\n",
      "vectorized loss: 2.369940e+00 computed in 0.009713s\n",
      "Loss difference: 0.000000\n",
      "Gradient difference: 0.000000\n"
     ]
    }
   ],
   "source": [
    "# Now that we have a naive implementation of the softmax loss function and its gradient,\n",
    "# implement a vectorized version in softmax_loss_vectorized.\n",
    "# The two versions should compute the same results, but the vectorized version should be\n",
    "# much faster.\n",
    "tic = time.time()\n",
    "loss_naive, grad_naive = softmax_loss_naive(W, X_dev, y_dev, 0.00001)\n",
    "toc = time.time()\n",
    "print 'naive loss: %e computed in %fs' % (loss_naive, toc - tic)\n",
    "\n",
    "from cs231n.classifiers.softmax import softmax_loss_vectorized\n",
    "tic = time.time()\n",
    "loss_vectorized, grad_vectorized = softmax_loss_vectorized(W, X_dev, y_dev, 0.00001)\n",
    "toc = time.time()\n",
    "print 'vectorized loss: %e computed in %fs' % (loss_vectorized, toc - tic)\n",
    "\n",
    "# As we did for the SVM, we use the Frobenius norm to compare the two versions\n",
    "# of the gradient.\n",
    "grad_difference = np.linalg.norm(grad_naive - grad_vectorized, ord='fro')\n",
    "print 'Loss difference: %f' % np.abs(loss_naive - loss_vectorized)\n",
    "print 'Gradient difference: %f' % grad_difference"
   ]
  },
  {
   "cell_type": "code",
   "execution_count": 24,
   "metadata": {
    "collapsed": false
   },
   "outputs": [
    {
     "name": "stdout",
     "output_type": "stream",
     "text": [
      "iteration 0 / 1000: loss 83.018178\n",
      "iteration 100 / 1000: loss 73.646926\n",
      "iteration 200 / 1000: loss 66.534400\n",
      "iteration 300 / 1000: loss 59.891977\n",
      "iteration 400 / 1000: loss 53.920286\n",
      "iteration 500 / 1000: loss 48.630895\n",
      "iteration 600 / 1000: loss 43.913074\n",
      "iteration 700 / 1000: loss 39.692002\n",
      "iteration 800 / 1000: loss 35.907617\n",
      "iteration 900 / 1000: loss 32.508850\n",
      "iteration 0 / 1000: loss 770.841189\n",
      "iteration 100 / 1000: loss 283.025773\n",
      "iteration 200 / 1000: loss 104.886577\n",
      "iteration 300 / 1000: loss 39.557582\n",
      "iteration 400 / 1000: loss 15.666303\n",
      "iteration 500 / 1000: loss 6.926834\n",
      "iteration 600 / 1000: loss 3.727377\n",
      "iteration 700 / 1000: loss 2.555581\n",
      "iteration 800 / 1000: loss 2.126293\n",
      "iteration 900 / 1000: loss 1.968992\n",
      "iteration 0 / 1000: loss 7646.897249\n",
      "iteration 100 / 1000: loss 2.516838\n",
      "iteration 200 / 1000: loss 2.242134\n",
      "iteration 300 / 1000: loss 2.216838\n",
      "iteration 400 / 1000: loss 2.216744\n",
      "iteration 500 / 1000: loss 2.216744\n",
      "iteration 600 / 1000: loss 2.216744\n",
      "iteration 700 / 1000: loss 2.216744\n",
      "iteration 800 / 1000: loss 2.216744\n",
      "iteration 900 / 1000: loss 2.216744\n",
      "iteration 0 / 1000: loss 82.154473\n",
      "iteration 100 / 1000: loss 48.781746\n",
      "iteration 200 / 1000: loss 30.092786\n",
      "iteration 300 / 1000: loss 18.322289\n",
      "iteration 400 / 1000: loss 11.356188\n",
      "iteration 500 / 1000: loss 7.253483\n",
      "iteration 600 / 1000: loss 4.798274\n",
      "iteration 700 / 1000: loss 3.320835\n",
      "iteration 800 / 1000: loss 2.429511\n",
      "iteration 900 / 1000: loss 1.891041\n",
      "iteration 0 / 1000: loss 775.271338\n",
      "iteration 100 / 1000: loss 6.910313\n",
      "iteration 200 / 1000: loss 2.100612\n",
      "iteration 300 / 1000: loss 1.885126\n",
      "iteration 400 / 1000: loss 1.878013\n",
      "iteration 500 / 1000: loss 1.877988\n",
      "iteration 600 / 1000: loss 1.877987\n",
      "iteration 700 / 1000: loss 1.877987\n",
      "iteration 800 / 1000: loss 1.877987\n",
      "iteration 900 / 1000: loss 1.877987\n",
      "iteration 0 / 1000: loss 7722.509557\n",
      "iteration 100 / 1000: loss 2.260690\n",
      "iteration 200 / 1000: loss 2.244784\n",
      "iteration 300 / 1000: loss 2.216744\n",
      "iteration 400 / 1000: loss 2.216744\n",
      "iteration 500 / 1000: loss 2.216744\n",
      "iteration 600 / 1000: loss 2.216744\n",
      "iteration 700 / 1000: loss 2.216744\n",
      "iteration 800 / 1000: loss 2.216744\n",
      "iteration 900 / 1000: loss 2.216744\n",
      "lr 1.000000e-07 reg 5.000000e+03 train accuracy: 0.213286 val accuracy: 0.202000\n",
      "lr 1.000000e-07 reg 5.000000e+04 train accuracy: 0.258408 val accuracy: 0.280000\n",
      "lr 1.000000e-07 reg 5.000000e+05 train accuracy: 0.225918 val accuracy: 0.246000\n",
      "lr 5.000000e-07 reg 5.000000e+03 train accuracy: 0.259918 val accuracy: 0.261000\n",
      "lr 5.000000e-07 reg 5.000000e+04 train accuracy: 0.258041 val accuracy: 0.277000\n",
      "lr 5.000000e-07 reg 5.000000e+05 train accuracy: 0.225918 val accuracy: 0.246000\n",
      "best validation accuracy achieved during cross-validation: 0.280000\n"
     ]
    }
   ],
   "source": [
    "# Use the validation set to tune hyperparameters (regularization strength and\n",
    "# learning rate). You should experiment with different ranges for the learning\n",
    "# rates and regularization strengths; if you are careful you should be able to\n",
    "# get a classification accuracy of over 0.35 on the validation set.\n",
    "from cs231n.classifiers import Softmax\n",
    "results = {}\n",
    "best_val = -1\n",
    "best_softmax = None\n",
    "learning_rates = [1e-7, 5e-7]\n",
    "regularization_strengths = [5e3, 5e4, 5e5, 5e6]\n",
    "\n",
    "################################################################################\n",
    "# TODO:                                                                        #\n",
    "# Use the validation set to set the learning rate and regularization strength. #\n",
    "# This should be identical to the validation that you did for the SVM; save    #\n",
    "# the best trained softmax classifer in best_softmax.                          #\n",
    "################################################################################\n",
    "for tlr in learning_rates:\n",
    "    for tC in regularization_strengths:\n",
    "        smax = Softmax()\n",
    "        loss_hist = smax.train(X_train, y_train, learning_rate=tlr, reg=tC,\n",
    "                              num_iters=1000, verbose=True)\n",
    "        y_train_pred = smax.predict(X_train)\n",
    "        tacc = np.mean(y_train == y_train_pred)\n",
    "        y_val_pred = smax.predict(X_val)\n",
    "        vacc = np.mean(y_val == y_val_pred)\n",
    "        results[(tlr,tC)] = (tacc, vacc)\n",
    "        if best_val < vacc:\n",
    "            best_val = vacc\n",
    "            best_softmax = smax\n",
    "################################################################################\n",
    "#                              END OF YOUR CODE                                #\n",
    "################################################################################\n",
    "    \n",
    "# Print out results.\n",
    "for lr, reg in sorted(results):\n",
    "    train_accuracy, val_accuracy = results[(lr, reg)]\n",
    "    print 'lr %e reg %e train accuracy: %f val accuracy: %f' % (\n",
    "                lr, reg, train_accuracy, val_accuracy)\n",
    "    \n",
    "print 'best validation accuracy achieved during cross-validation: %f' % best_val"
   ]
  },
  {
   "cell_type": "code",
   "execution_count": 25,
   "metadata": {
    "collapsed": false
   },
   "outputs": [
    {
     "name": "stdout",
     "output_type": "stream",
     "text": [
      "softmax on raw pixels final test set accuracy: 0.239000\n"
     ]
    }
   ],
   "source": [
    "# evaluate on test set\n",
    "# Evaluate the best softmax on test set\n",
    "y_test_pred = best_softmax.predict(X_test)\n",
    "test_accuracy = np.mean(y_test == y_test_pred)\n",
    "print 'softmax on raw pixels final test set accuracy: %f' % (test_accuracy, )"
   ]
  },
  {
   "cell_type": "code",
   "execution_count": 26,
   "metadata": {
    "collapsed": false
   },
   "outputs": [
    {
     "data": {
      "image/png": "[encoded data removed]",
      "text/plain": [
       "<matplotlib.figure.Figure at 0x10bf6e510>"
      ]
     },
     "metadata": {},
     "output_type": "display_data"
    }
   ],
   "source": [
    "# Visualize the learned weights for each class\n",
    "w = best_softmax.W[:-1,:] # strip out the bias\n",
    "w = w.reshape(32, 32, 3, 10)\n",
    "\n",
    "w_min, w_max = np.min(w), np.max(w)\n",
    "\n",
    "classes = ['plane', 'car', 'bird', 'cat', 'deer', 'dog', 'frog', 'horse', 'ship', 'truck']\n",
    "for i in xrange(10):\n",
    "  plt.subplot(2, 5, i + 1)\n",
    "  \n",
    "  # Rescale the weights to be between 0 and 255\n",
    "  wimg = 255.0 * (w[:, :, :, i].squeeze() - w_min) / (w_max - w_min)\n",
    "  plt.imshow(wimg.astype('uint8'))\n",
    "  plt.axis('off')\n",
    "  plt.title(classes[i])"
   ]
  },
  {
   "cell_type": "code",
   "execution_count": null,
   "metadata": {
    "collapsed": true
   },
   "outputs": [],
   "source": []
  }
 ],
 "metadata": {
  "kernelspec": {
   "display_name": "Python 2",
   "language": "python",
   "name": "python2"
  },
  "language_info": {
   "codemirror_mode": {
    "name": "ipython",
    "version": 2
   },
   "file_extension": ".py",
   "mimetype": "text/x-python",
   "name": "python",
   "nbconvert_exporter": "python",
   "pygments_lexer": "ipython2",
   "version": "2.7.10"
  }
 },
 "nbformat": 4,
 "nbformat_minor": 0
}
